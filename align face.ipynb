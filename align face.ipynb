{
 "cells": [
  {
   "cell_type": "code",
   "execution_count": 1,
   "metadata": {},
   "outputs": [],
   "source": [
    "import cv2\n",
    "import dlib\n",
    "from imutils import face_utils\n",
    "from threading import Thread\n",
    "import numpy as np\n",
    "import imutils\n",
    "from imutils.video import  WebcamVideoStream"
   ]
  },
  {
   "cell_type": "code",
   "execution_count": 2,
   "metadata": {},
   "outputs": [],
   "source": [
    "class FaceAligner:\n",
    "    def __init__(self, predictor, desiredLeftEye=(0.35, 0.35),\n",
    "        desiredFaceWidth=256, desiredFaceHeight=None):\n",
    "        self.predictor = predictor\n",
    "        self.desiredLeftEye = desiredLeftEye\n",
    "        self.desiredFaceWidth = desiredFaceWidth\n",
    "        self.desiredFaceHeight = desiredFaceHeight\n",
    "\n",
    "        if self.desiredFaceHeight is None:\n",
    "            self.desiredFaceHeight = self.desiredFaceWidth\n",
    "\n",
    "    def align(self, image, gray, rect):\n",
    "        shape = self.predictor(gray, rect)\n",
    "        shape = face_utils.shape_to_np(shape)\n",
    "\n",
    "        if (len(shape)==68):\n",
    "            (lStart, lEnd) = face_utils.FACIAL_LANDMARKS_68_IDXS[\"left_eye\"]\n",
    "            (rStart, rEnd) = face_utils.FACIAL_LANDMARKS_68_IDXS[\"right_eye\"]\n",
    "        else:\n",
    "            (lStart, lEnd) = face_utils.FACIAL_LANDMARKS_5_IDXS[\"left_eye\"]\n",
    "            (rStart, rEnd) = face_utils.FACIAL_LANDMARKS_5_IDXS[\"right_eye\"]\n",
    "        \n",
    "        leftEyePts = shape[lStart:lEnd]\n",
    "        rightEyePts = shape[rStart:rEnd]\n",
    "\n",
    "        \n",
    "        leftEyeCenter = leftEyePts.mean(axis=0).astype(\"int\")\n",
    "        rightEyeCenter = rightEyePts.mean(axis=0).astype(\"int\")\n",
    "\n",
    "        dY = rightEyeCenter[1] - leftEyeCenter[1]\n",
    "        dX = rightEyeCenter[0] - leftEyeCenter[0]\n",
    "        angle = np.degrees(np.arctan2(dY, dX)) - 180\n",
    "        return angle\n"
   ]
  },
  {
   "cell_type": "code",
   "execution_count": 3,
   "metadata": {},
   "outputs": [],
   "source": [
    "file =  WebcamVideoStream(src=0).start()"
   ]
  },
  {
   "cell_type": "code",
   "execution_count": 4,
   "metadata": {},
   "outputs": [],
   "source": [
    "detector = dlib.get_frontal_face_detector()"
   ]
  },
  {
   "cell_type": "code",
   "execution_count": 5,
   "metadata": {},
   "outputs": [],
   "source": [
    "predictor_path = 'shape_predictor_68_face_landmarks.dat'\n",
    "predictor = dlib.shape_predictor(predictor_path)"
   ]
  },
  {
   "cell_type": "code",
   "execution_count": 6,
   "metadata": {},
   "outputs": [],
   "source": [
    "face = FaceAligner(predictor, desiredFaceWidth=600)"
   ]
  },
  {
   "cell_type": "code",
   "execution_count": 7,
   "metadata": {},
   "outputs": [],
   "source": [
    "while True:\n",
    "    frame = file.read()\n",
    "    frame = imutils.resize(frame, width=600)\n",
    "    gray = cv2.cvtColor(frame, cv2.COLOR_BGR2GRAY)\n",
    "    detect = detector(gray)\n",
    "    if(len(detect)>0):\n",
    "        for det in detect:\n",
    "            align = face.align(frame, gray, det)\n",
    "            (x, y, w, h) = face_utils.rect_to_bb(det)\n",
    "            if(-360.0 <= align <= -353.0) or (-7.0 <= align <= 0):\n",
    "                cv2.rectangle(frame,(det.left(), det.top()), (det.right(), det.bottom()),(0,255,0),3)\n",
    "                cv2.putText(frame,\"FACE ALIGNED\",(x,y),cv2.FONT_HERSHEY_SIMPLEX, 0.5, (0, 255, 0), 2)\n",
    "                \n",
    "            else:\n",
    "                cv2.rectangle(frame,(det.left(), det.top()), (det.right(), det.bottom()),(0,0,255),3)\n",
    "                cv2.putText(frame,\"PLEASE ALIGN YOUR FACE!\",(x,y),cv2.FONT_HERSHEY_SIMPLEX, 0.5, (0, 0, 255), 2)\n",
    "            \n",
    "    else:\n",
    "        cv2.putText(frame, \"NO FACE PRESENT\",(20,20),cv2.FONT_HERSHEY_SIMPLEX, 0.5, (0, 0, 255), 2)\n",
    "    \n",
    "    cv2.imshow('frame',frame)\n",
    "    key = cv2.waitKey(1)\n",
    "    if key == ord('q'):\n",
    "        file.stop()\n",
    "        break\n",
    "file.stream.release()\n",
    "cv2.destroyAllWindows()"
   ]
  },
  {
   "cell_type": "code",
   "execution_count": null,
   "metadata": {},
   "outputs": [],
   "source": []
  },
  {
   "cell_type": "code",
   "execution_count": null,
   "metadata": {},
   "outputs": [],
   "source": []
  }
 ],
 "metadata": {
  "kernelspec": {
   "display_name": "Python 3",
   "language": "python",
   "name": "python3"
  },
  "language_info": {
   "codemirror_mode": {
    "name": "ipython",
    "version": 3
   },
   "file_extension": ".py",
   "mimetype": "text/x-python",
   "name": "python",
   "nbconvert_exporter": "python",
   "pygments_lexer": "ipython3",
   "version": "3.5.6"
  }
 },
 "nbformat": 4,
 "nbformat_minor": 4
}
